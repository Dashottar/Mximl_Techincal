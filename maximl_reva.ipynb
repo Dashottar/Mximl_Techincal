{
 "cells": [
  {
   "cell_type": "code",
   "execution_count": 1,
   "metadata": {},
   "outputs": [
    {
     "name": "stdout",
     "output_type": "stream",
     "text": [
      "abcda\n",
      "4\n"
     ]
    }
   ],
   "source": [
    "def distinctChar(S, n):\n",
    "    s = set()\n",
    " \n",
    "    for i in range(n):\n",
    "        if (S[i] not in s):\n",
    "            s.add(S[i])\n",
    " \n",
    "    return len(s)\n",
    " \n",
    "S = input()\n",
    "n = len(S)\n",
    " \n",
    "print(distinctChar(S, n))"
   ]
  },
  {
   "cell_type": "code",
   "execution_count": null,
   "metadata": {},
   "outputs": [],
   "source": []
  }
 ],
 "metadata": {
  "kernelspec": {
   "display_name": "Python 3",
   "language": "python",
   "name": "python3"
  },
  "language_info": {
   "codemirror_mode": {
    "name": "ipython",
    "version": 3
   },
   "file_extension": ".py",
   "mimetype": "text/x-python",
   "name": "python",
   "nbconvert_exporter": "python",
   "pygments_lexer": "ipython3",
   "version": "3.7.6"
  }
 },
 "nbformat": 4,
 "nbformat_minor": 4
}
